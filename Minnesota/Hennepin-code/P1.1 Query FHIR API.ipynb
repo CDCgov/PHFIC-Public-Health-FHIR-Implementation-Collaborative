{
 "cells": [
  {
   "cell_type": "markdown",
   "metadata": {},
   "source": [
    "Phase 1 - Notebook 1 (copied from Databricks, not all code may work correctly in other IDEs).\n",
    "\n",
    "This notebook queries new FHIR data and converts it to a rectangular format."
   ]
  },
  {
   "cell_type": "markdown",
   "metadata": {
    "application/vnd.databricks.v1+cell": {
     "cellMetadata": {
      "byteLimit": 2048000,
      "rowLimit": 10000
     },
     "inputWidgets": {},
     "nuid": "0cd930f8-1cde-4d1a-8897-f1d4edf17a9e",
     "showTitle": false,
     "tableResultSettingsMap": {},
     "title": ""
    }
   },
   "source": [
    "**Author:** Nate Bean\n",
    "\n",
    "**Date created:** 11/23 -- **Last modified:** 11/23\n",
    "\n",
    "**Purpose:** Use this script to query data from the production MDH Syphilis FHIR API. Refer to the 'Syphilis FHIR API Manual' document for information  \n",
    "\n",
    "**Schedule:** Daily"
   ]
  },
  {
   "cell_type": "code",
   "execution_count": 0,
   "metadata": {
    "application/vnd.databricks.v1+cell": {
     "cellMetadata": {
      "byteLimit": 2048000,
      "rowLimit": 10000
     },
     "inputWidgets": {},
     "nuid": "e71284e0-ed84-456b-8c88-2230ecc72991",
     "showTitle": true,
     "tableResultSettingsMap": {},
     "title": "Import libraries"
    }
   },
   "outputs": [],
   "source": [
    "from datetime import datetime, timedelta\n",
    "import pandas as pd\n",
    "import os"
   ]
  },
  {
   "cell_type": "code",
   "execution_count": 0,
   "metadata": {
    "application/vnd.databricks.v1+cell": {
     "cellMetadata": {
      "byteLimit": 2048000,
      "rowLimit": 10000
     },
     "inputWidgets": {},
     "nuid": "b742d1ad-0b5f-47b1-8a45-bc0f21967705",
     "showTitle": true,
     "tableResultSettingsMap": {},
     "title": "Load FHIR functions"
    },
    "jupyter": {
     "outputs_hidden": true
    }
   },
   "outputs": [],
   "source": [
    "%run /Shared/InfectiousDiseases/Syphilis/FHIR/Production/fhir_functions"
   ]
  },
  {
   "cell_type": "code",
   "execution_count": 0,
   "metadata": {
    "application/vnd.databricks.v1+cell": {
     "cellMetadata": {
      "byteLimit": 2048000,
      "rowLimit": 10000
     },
     "inputWidgets": {},
     "nuid": "76cc243f-e97b-4334-98ed-9bd421aa7f10",
     "showTitle": true,
     "tableResultSettingsMap": {},
     "title": "Set file path"
    }
   },
   "outputs": [],
   "source": [
    "raw = \"/dbfs/mnt/phmdw/Raw/PublicHealth/InfectiousDiseases/SyphilisProvisional/Daily Files/\"\n",
    "raw_fhir = \"/dbfs/mnt/phmdw/Raw/PublicHealth/InfectiousDiseases/SyphilisProvisional/FHIR Files/\""
   ]
  },
  {
   "cell_type": "code",
   "execution_count": null,
   "metadata": {},
   "outputs": [],
   "source": [
    "#Retrieve credentials from Azure Key Vault\n",
    "id_kv = dbutils.secrets.get(scope = \"PH-PrdMDW-dbw-PrdMDW-kv-secret-scope\", key = \"mdh-fhir-id\") \n",
    "secret_kv = dbutils.secrets.get(scope = \"PH-PrdMDW-dbw-PrdMDW-kv-secret-scope\", key = \"mdh-fhir-prod-secret\")\n",
    "\n",
    "#Generate API access token\n",
    "access_token = get_token(keycloak_url = \"https://authenticatorx.web.health.state.mn.us\", \n",
    "                         realm = \"mdh-fhir-gateway-realm\",\n",
    "                         client_id = id_kv,\n",
    "                         client_secret = secret_kv)"
   ]
  },
  {
   "cell_type": "code",
   "execution_count": 0,
   "metadata": {
    "application/vnd.databricks.v1+cell": {
     "cellMetadata": {
      "byteLimit": 2048000,
      "rowLimit": 10000
     },
     "inputWidgets": {},
     "nuid": "07d0bd06-9481-40ba-a7fd-461a59f3538b",
     "showTitle": true,
     "tableResultSettingsMap": {},
     "title": "Query syphilis data"
    }
   },
   "outputs": [],
   "source": [
    "#Define records to include by earliest modification date\n",
    "#mod_date = \"2023-01-01 00:00\" #on or after; given that some records may be removed, always query all records\n",
    "#mod_date = datetime.today().strftime('%Y-%m-%d')\n",
    "\n",
    "#If there is no new data available, the workflow will exit after this function.\n",
    "#Currently, the API fails if the query returns more than 100mb of data (~700 records)\n",
    "#query_json = query_fhir(app_host = \"https://sti-fhir-api.web.health.state.mn.us\", #prod endpoint\n",
    "#                        suffix = \"/fhir/medss/\" + mod_date)"
   ]
  },
  {
   "cell_type": "code",
   "execution_count": null,
   "metadata": {},
   "outputs": [],
   "source": [
    "#Define records to include by earliest modification date\n",
    "#mod_date = \"2023-01-01 00:00\" #on or after; given that some records may be removed, always query all records\n",
    "yesterday = datetime.today() - timedelta(days=1)\n",
    "yesterday = yesterday.strftime('%Y-%m-%d')\n",
    "mod_date = f\"{yesterday} 00:00\"\n",
    "\n",
    "#If there is no new data available, the workflow will exit after this function.\n",
    "#Currently, the API fails if the query returns more than 100mb of data (~700 records)\n",
    "query_json = query_fhir(app_host = \"https://sti-fhir-api.web.health.state.mn.us\", #prod endpoint\n",
    "                        suffix = \"/fhir/medss/\" + mod_date)"
   ]
  },
  {
   "cell_type": "code",
   "execution_count": 0,
   "metadata": {
    "application/vnd.databricks.v1+cell": {
     "cellMetadata": {
      "byteLimit": 2048000,
      "rowLimit": 10000
     },
     "inputWidgets": {},
     "nuid": "7fe2d176-fce1-433b-a194-4fd3565740d5",
     "showTitle": true,
     "tableResultSettingsMap": {},
     "title": "Save data in the FHIR format"
    }
   },
   "outputs": [],
   "source": [
    "fhir_txt = json.dumps(query_json)\n",
    "today = datetime.today().strftime('%Y-%m-%d')\n",
    "\n",
    "with open(raw_fhir + 'fhir_txt_' + today + '.txt', \"w\") as text_file:\n",
    "    text_file.write(fhir_txt)"
   ]
  },
  {
   "cell_type": "code",
   "execution_count": null,
   "metadata": {},
   "outputs": [],
   "source": [
    "query_json"
   ]
  },
  {
   "cell_type": "code",
   "execution_count": null,
   "metadata": {},
   "outputs": [],
   "source": [
    "query_data = parse_sti_fhir(query_json)\n",
    "\n",
    "display(query_data)"
   ]
  },
  {
   "cell_type": "code",
   "execution_count": 0,
   "metadata": {
    "application/vnd.databricks.v1+cell": {
     "cellMetadata": {
      "byteLimit": 2048000,
      "rowLimit": 10000
     },
     "inputWidgets": {},
     "nuid": "1c8a68e9-cedf-465e-a22d-feef589fe3d5",
     "showTitle": true,
     "tableResultSettingsMap": {},
     "title": "Write query result"
    }
   },
   "outputs": [],
   "source": [
    "#data_date = datetime.today().strftime('%Y.%m.%d')\n",
    "#query_data.to_csv(raw + \"fhir_syphilis_data_\" + data_date + \".csv\", index = False)"
   ]
  },
  {
   "cell_type": "code",
   "execution_count": null,
   "metadata": {},
   "outputs": [],
   "source": [
    "#Get most recent file\n",
    "files = os.listdir(raw)\n",
    "most_recent = files[len(files)-1]\n",
    "\n",
    "old_data = pd.read_csv(raw + most_recent)\n",
    "old_data = old_data.astype({\"id\": str})\n",
    "print(f\"{len(old_data)} rows in the original data\")\n",
    "print(f\"{len(query_data)} downloaded records\")\n",
    "\n",
    "old_dataf = old_data[(~old_data[\"id\"].isin(query_data.id))]\n",
    "print(f\"{len(old_data) - len(old_dataf)} records already in data\")\n",
    "\n",
    "updated = pd.concat([old_dataf, query_data])\n",
    "print(f\"{len(updated)} records in updated data\")\n",
    "\n",
    "data_date = datetime.today().strftime('%Y.%m.%d')\n",
    "updated.to_csv(raw + \"fhir_syphilis_data_\" + data_date + \".csv\", index = False)"
   ]
  }
 ],
 "metadata": {
  "application/vnd.databricks.v1+notebook": {
   "dashboards": [],
   "environmentMetadata": null,
   "language": "python",
   "notebookMetadata": {
    "pythonIndentUnit": 4
   },
   "notebookName": "P1.1 Query FHIR API",
   "widgets": {}
  },
  "language_info": {
   "name": "python"
  }
 },
 "nbformat": 4,
 "nbformat_minor": 0
}
