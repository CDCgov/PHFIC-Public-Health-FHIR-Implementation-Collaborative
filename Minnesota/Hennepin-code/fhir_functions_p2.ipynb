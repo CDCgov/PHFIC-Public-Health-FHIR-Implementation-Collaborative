{
 "cells": [
  {
   "cell_type": "markdown",
   "metadata": {},
   "source": [
    "Phase 2 - Utility notebook (copied from Databricks, not all code may work correctly in other IDEs).\n",
    "\n",
    "This notebook defines functions used in other Phase 2 notebooks."
   ]
  },
  {
   "cell_type": "markdown",
   "metadata": {
    "application/vnd.databricks.v1+cell": {
     "cellMetadata": {
      "byteLimit": 2048000,
      "rowLimit": 10000
     },
     "inputWidgets": {},
     "nuid": "0ea898e0-c1af-420c-9285-5d43ef5c7372",
     "showTitle": false,
     "tableResultSettingsMap": {},
     "title": ""
    }
   },
   "source": [
    "**Author:** Nate Bean\n",
    "\n",
    "**Date created:** 08/24-- **Last modified:** 08/24\n",
    "\n",
    "**Purpose:** A utility that contains functions used for transforming and sending Phase 2 syphilis FHIR data. \n",
    "\n",
    "**Schedule:** None"
   ]
  },
  {
   "cell_type": "markdown",
   "metadata": {
    "application/vnd.databricks.v1+cell": {
     "cellMetadata": {
      "byteLimit": 2048000,
      "rowLimit": 10000
     },
     "inputWidgets": {},
     "nuid": "8280bc68-aebc-486d-bb5e-7787e328eb8e",
     "showTitle": false,
     "tableResultSettingsMap": {},
     "title": ""
    }
   },
   "source": [
    "**Changelog:**\n",
    "- 08/05/2024: Finished adding initial functions"
   ]
  },
  {
   "cell_type": "code",
   "execution_count": 0,
   "metadata": {
    "application/vnd.databricks.v1+cell": {
     "cellMetadata": {
      "byteLimit": 2048000,
      "rowLimit": 10000
     },
     "inputWidgets": {},
     "nuid": "a0c71428-c16e-4c75-9335-7cb90dcc49c0",
     "showTitle": true,
     "tableResultSettingsMap": {},
     "title": "Import libraries"
    }
   },
   "outputs": [],
   "source": [
    "import json #send_fhir_message\n",
    "import requests #send_fhir_message\n",
    "import re #qr function\n",
    "import pandas as pd #\n",
    "import time #send_fhir_message"
   ]
  },
  {
   "cell_type": "markdown",
   "metadata": {
    "application/vnd.databricks.v1+cell": {
     "cellMetadata": {},
     "inputWidgets": {},
     "nuid": "69621500-f717-491c-b398-17a70814e2fd",
     "showTitle": true,
     "tableResultSettingsMap": {},
     "title": "parse_fhir info"
    }
   },
   "source": [
    "**Resource creation functions:**\n",
    "- These functions are used part of the overall workflow for converting data to FHIR. They create the actual structure of each resource. Functionalizing this code makes the main main script more readable. \n",
    "- More of the process could be included in these functions, but I didn't want to load fhir.resources as part of this notebook."
   ]
  },
  {
   "cell_type": "code",
   "execution_count": 0,
   "metadata": {
    "application/vnd.databricks.v1+cell": {
     "cellMetadata": {},
     "inputWidgets": {},
     "nuid": "903abb18-023c-4a47-8dd6-93183c43cd97",
     "showTitle": true,
     "tableResultSettingsMap": {},
     "title": "Create Patient resource"
    }
   },
   "outputs": [],
   "source": [
    "def create_patient_resource(data):\n",
    "    pat = {\n",
    "        'id': data.case_id.item(),\n",
    "        'active': 'true',\n",
    "        'gender': data.gender.item(),\n",
    "        'communication': [{'language': {'coding': [{'code': data.language_code.item(),\n",
    "                                                    'display': data.preferred_language.item(),\n",
    "                                                    'system': 'urn:ietf:bcp:47'}]}, \n",
    "                           'preferred': 'True'}],\n",
    "        'extension': [{\n",
    "            \"id\" : \"genderIdentity\",\n",
    "            'url': 'http://hl7.org/fhir/us/core/StructureDefinition/us-core-genderIdentity',\n",
    "            'valueCodeableConcept': {\n",
    "                'coding': [{\n",
    "                    'system' : data.gender_system.item(),\n",
    "                    'code' : data.gender_code.item(),\n",
    "                    'display' : data.gender_display.item()\n",
    "                }],\n",
    "                'text': data.gender_display.item()\n",
    "                                    }\n",
    "                }]\n",
    "            }\n",
    "    \n",
    "    return(pat)"
   ]
  },
  {
   "cell_type": "code",
   "execution_count": 0,
   "metadata": {
    "application/vnd.databricks.v1+cell": {
     "cellMetadata": {},
     "inputWidgets": {},
     "nuid": "fd74a313-3da1-45ac-8fb0-70c36b62577e",
     "showTitle": true,
     "tableResultSettingsMap": {},
     "title": "Create Observation resource"
    }
   },
   "outputs": [],
   "source": [
    "def create_observation_resource(data):\n",
    "    obs = {\n",
    "        'id': data.case_id.item(),\n",
    "        'status': 'registered',\n",
    "        'subject': {'reference': 'Patient/patient-'+ data.case_id.item()},\n",
    "        'code': {    \n",
    "            'coding': [{\n",
    "            'system': 'https://www.hennepin.us/residents/health-medical/public-health',\n",
    "            'code': orientation[orientation.Display.isin([data.sexual_orientation.item()])].Code.item(),\n",
    "            'display': data.sexual_orientation.item()}]}\n",
    "        }\n",
    "    \n",
    "    return(obs)"
   ]
  },
  {
   "cell_type": "code",
   "execution_count": 0,
   "metadata": {
    "application/vnd.databricks.v1+cell": {
     "cellMetadata": {},
     "inputWidgets": {},
     "nuid": "b8eda861-5616-44d7-906e-fa4eb70b844c",
     "showTitle": true,
     "tableResultSettingsMap": {},
     "title": "Create CarePlan resource"
    }
   },
   "outputs": [],
   "source": [
    "def create_careplan_resource(data):\n",
    "    cp = {\n",
    "          'id': data.case_id,\n",
    "          'status': 'active',\n",
    "          'intent': 'order',\n",
    "          'subject': {'reference': 'Patient/patient-'+ data.case_id},\n",
    "          'activity': [{'detail': {'kind': 'MedicationRequest',\n",
    "                                   'status': 'completed',\n",
    "                                   'scheduledString': str(data.treatment_date),\n",
    "                                   'description': data.treatment_regimen}}]\n",
    "            }\n",
    "    \n",
    "    return(cp)"
   ]
  },
  {
   "cell_type": "code",
   "execution_count": 0,
   "metadata": {
    "application/vnd.databricks.v1+cell": {
     "cellMetadata": {
      "byteLimit": 2048000,
      "rowLimit": 10000
     },
     "inputWidgets": {},
     "nuid": "6ce7fbaf-bd4c-4ba3-b0e1-1c6bcbda85ad",
     "showTitle": true,
     "tableResultSettingsMap": {},
     "title": "Create Questionnaire Response resource"
    }
   },
   "outputs": [],
   "source": [
    "#May need to send up to 4 values for sex partner gender using the logic below.\n",
    "def create_questionnaire_resource(data):\n",
    "\n",
    "    #Splitting this here so I don't need to do more work earlier in the data pipeline.\n",
    "    spg = data.sex_partner_gender.item()\n",
    "    spg = re.split(\";\", spg)\n",
    "    \n",
    "    if len(spg) == 1:\n",
    "        qr = {\n",
    "            'id': data.case_id.item(),\n",
    "            'status': 'completed',\n",
    "            'subject': {'reference': 'Patient/patient-'+ data.case_id.item()},\n",
    "            'item': [{'linkId': '/Epic_1',\n",
    "                      'text': 'Sex partner gender in the last 12 months',\n",
    "                      'answer': [\n",
    "                        {\n",
    "                            'valueCoding': {'system': 'https://www.hennepin.us/residents/health-medical/public-health',\n",
    "                                            'code': spg[0],\n",
    "                                            'display': spg[0]}\n",
    "                        }\n",
    "                    ],\n",
    "                }\n",
    "            ]}\n",
    "\n",
    "    elif len(spg) == 2:\n",
    "        qr = {\n",
    "            'id': data.case_id.item(),\n",
    "            'status': 'completed',\n",
    "            'subject': {'reference': 'Patient/patient-'+ data.case_id.item()},\n",
    "            'item': [{'linkId': '/Epic_1',\n",
    "                      'text': 'Sex partner gender in the last 12 months',\n",
    "                      'answer': [\n",
    "                        {\n",
    "                            'valueCoding': {'system': 'https://www.hennepin.us/residents/health-medical/public-health',\n",
    "                                            'code': spg[0],\n",
    "                                            'display': spg[0]}\n",
    "                        },                       \n",
    "                        {\n",
    "                            'valueCoding': {'system': 'https://www.hennepin.us/residents/health-medical/public-health',\n",
    "                                            'code': spg[1],\n",
    "                                            'display': spg[1]} \n",
    "                        }\n",
    "                    ],\n",
    "                }\n",
    "            ]}\n",
    "\n",
    "    elif len(spg) == 3:\n",
    "        qr = {\n",
    "            'id': data.case_id.item(),\n",
    "            'status': 'completed',\n",
    "            'subject': {'reference': 'Patient/patient-'+ data.case_id.item()},\n",
    "            'item': [{'linkId': '/Epic_1',\n",
    "                      'text': 'Sex partner gender in the last 12 months',\n",
    "                      'answer': [\n",
    "                        {\n",
    "                            'valueCoding': {'system': 'https://www.hennepin.us/residents/health-medical/public-health',\n",
    "                                            'code': spg[0],\n",
    "                                            'display': spg[0]}\n",
    "                        },                       \n",
    "                        {\n",
    "                            'valueCoding': {'system': 'https://www.hennepin.us/residents/health-medical/public-health',\n",
    "                                            'code': spg[1],\n",
    "                                            'display': spg[1]}  \n",
    "                        },                       \n",
    "                        {\n",
    "                            'valueCoding': {'system': 'https://www.hennepin.us/residents/health-medical/public-health',\n",
    "                                            'code': spg[2],\n",
    "                                            'display': spg[2]}  \n",
    "                        }\n",
    "                    ],\n",
    "                }\n",
    "            ]}\n",
    "\n",
    "    elif len(spg) == 4:\n",
    "        qr = {\n",
    "            'id': data.case_id.item(),\n",
    "            'status': 'completed',\n",
    "            'subject': {'reference': 'Patient/patient-'+ data.case_id.item()},\n",
    "            'item': [{'linkId': '/Epic_1',\n",
    "                      'text': 'Sex partner gender in the last 12 months',\n",
    "                      'answer': [\n",
    "                        {\n",
    "                            'valueCoding': {'system': 'https://www.hennepin.us/residents/health-medical/public-health',\n",
    "                                            'code': spg[0],\n",
    "                                            'display': spg[0]}\n",
    "                        },                       \n",
    "                        {\n",
    "                            'valueCoding': {'system': 'https://www.hennepin.us/residents/health-medical/public-health',\n",
    "                                            'code': spg[1],\n",
    "                                            'display': spg[1]}  \n",
    "                        },                       \n",
    "                        {\n",
    "                            'valueCoding': {'system': 'https://www.hennepin.us/residents/health-medical/public-health',\n",
    "                                            'code': spg[2],\n",
    "                                            'display': spg[2]}  \n",
    "                        },                       \n",
    "                        {\n",
    "                            'valueCoding': {'system': 'https://www.hennepin.us/residents/health-medical/public-health',\n",
    "                                            'code': spg[3],\n",
    "                                            'display': spg[3]}  \n",
    "                        }\n",
    "                    ],\n",
    "                }\n",
    "            ]}\n",
    "    return(qr)"
   ]
  },
  {
   "cell_type": "markdown",
   "metadata": {
    "application/vnd.databricks.v1+cell": {
     "cellMetadata": {},
     "inputWidgets": {},
     "nuid": "84b908ae-d410-41d4-aec4-503520be369a",
     "showTitle": false,
     "tableResultSettingsMap": {},
     "title": ""
    }
   },
   "source": [
    "**send_fhir_message() description**\n",
    "\n",
    "After a patient bundle is created, the send_fhir_message() function will send it to MDH's API. It will send a PUT request containing the data to the MDH endpoint, and the bulk of the code is used to properly respond to potential responses received from the API. Anything but a 200 'ok' response indicates that the attempt to send data was not successful. The function may initially run into a Cloudfront security error (I think because it takes the API time to spin up?) but will resend the message a couple times before failing in this scenario. See documentation for more details about potential error messages."
   ]
  },
  {
   "cell_type": "code",
   "execution_count": 0,
   "metadata": {
    "application/vnd.databricks.v1+cell": {
     "cellMetadata": {
      "byteLimit": 2048000,
      "rowLimit": 10000
     },
     "inputWidgets": {},
     "nuid": "acc3e983-5a0a-4479-9b1d-ba2593d7f8a3",
     "showTitle": true,
     "tableResultSettingsMap": {},
     "title": "Send FHIR message"
    }
   },
   "outputs": [],
   "source": [
    "#Currently we only have a single base url, which points to the Prod environment\n",
    "def send_fhir_message(base_url, fhir_bundle, verbose = True):\n",
    "    endpoint = f'{base_url}/api/resources/proxy/idepc/fhir/sti'\n",
    "    api_key = dbutils.secrets.get(scope = \"PH-PrdMDW-dbw-PrdMDW-kv-secret-scope\", key = \"MDH-DEX-apikey\")\n",
    "    headers = {'Authorization': f'API {api_key}', 'Content-Type': \"text/plain\"}\n",
    "\n",
    "    #Send data. \n",
    "    #It seems like it takes a sec for the server to start when contacted. Data submitted right away will get a 200 Cloudfront error. Use loop to retry\n",
    "    attempts = 0\n",
    "    success = 0\n",
    "\n",
    "    while attempts < 3 and success == 0:\n",
    "        resp = requests.put(endpoint, data = fhir_bundle, headers = headers)\n",
    "        print('Patient bundle ' + patid + ' sent to: ' + endpoint)\n",
    "\n",
    "    #Response handling\n",
    "    #Valid response should be 200 OK, but 200 ok may also be an error with Cloudfront security - differentiate below\n",
    "        if resp.status_code == 200:\n",
    "            try:\n",
    "                resp_json = json.loads(resp.content) #security error is not in json so this will fail\n",
    "                resp_code = json.loads(resp.content)['entry'][0]['resource']['response']['code'] #if successful, this should be 'ok'\n",
    "\n",
    "                if resp_code == 'ok':\n",
    "                    success = 1\n",
    "\n",
    "                    if verbose == True:\n",
    "                        print(str(resp.status_code) + \" - \" + resp_code)\n",
    "\n",
    "                else: #technically this would something that's json, but not successful. Not sure if this would ever happen, but adding just in case.\n",
    "                    attempts += 1\n",
    "\n",
    "                    if attempts == 3:\n",
    "                        print(resp.content)\n",
    "                        raise ValueError('200 OK - Cloudfront Security (3/3 attempts failed)')\n",
    "\n",
    "                    else:\n",
    "                        print(f\"Waiting for 60 seconds, then retrying... (attempt {attempts} of 3)\")\n",
    "                        time.sleep(60)\n",
    "                        \n",
    "            except: #the response can't be parsed as json\n",
    "                attempts += 1\n",
    "\n",
    "                if attempts == 3:\n",
    "                        print(resp.content)\n",
    "                        raise ValueError('200 OK - Cloudfront Security (3/3 attempts failed)')\n",
    "\n",
    "                else:\n",
    "                    print(f\"Waiting for 60 seconds, then retrying... (attempt {attempts} of 3)\")\n",
    "                    time.sleep(60)\n",
    "\n",
    "        #Handling other values is more straightforward - they're errors and should halt execution.\n",
    "        #400 should either mean invalid JSON data or bad values in valid JSON. Identify using printed text\n",
    "        elif resp.status_code == 400:\n",
    "            diagnostics = json.loads(resp.content)['entry'][1]['resource']['issue'][0]['diagnostics']\n",
    "            print(diagnostics)\n",
    "            raise ValueError('400 Bad Request')\n",
    "\n",
    "        #500 should capture invalid API key, DEX code error. Identify using printed text and documentation.\n",
    "        elif resp.status_code == 500:\n",
    "            print(resp.content)\n",
    "            raise ValueError('500 Internal Server Error')\n",
    "        \n",
    "        #This will capture any errors not included in the documentation. May want to add them into this function afterward.\n",
    "        else:\n",
    "            print(resp.content)\n",
    "            raise ValueError(resp.status_code + ' Error - see text to diagnoise.')"
   ]
  }
 ],
 "metadata": {
  "application/vnd.databricks.v1+notebook": {
   "dashboards": [],
   "environmentMetadata": null,
   "language": "python",
   "notebookMetadata": {
    "pythonIndentUnit": 4
   },
   "notebookName": "fhir_functions_p2",
   "widgets": {}
  },
  "language_info": {
   "name": "python"
  }
 },
 "nbformat": 4,
 "nbformat_minor": 0
}
