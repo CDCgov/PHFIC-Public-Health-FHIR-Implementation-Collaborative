{
 "cells": [
  {
   "cell_type": "markdown",
   "metadata": {},
   "source": [
    "Phase 1 - Utility notebook (copied from Databricks, not all code may work correctly in other IDEs).\n",
    "\n",
    "This notebook defines functions used in other Phase 1 notebooks."
   ]
  },
  {
   "cell_type": "markdown",
   "metadata": {
    "application/vnd.databricks.v1+cell": {
     "cellMetadata": {
      "byteLimit": 2048000,
      "rowLimit": 10000
     },
     "inputWidgets": {},
     "nuid": "0ea898e0-c1af-420c-9285-5d43ef5c7372",
     "showTitle": false,
     "tableResultSettingsMap": {},
     "title": ""
    }
   },
   "source": [
    "**Author:** Nate Bean\n",
    "\n",
    "**Date created:** 10/23 -- **Last modified:** 11/24\n",
    "\n",
    "**Purpose:** A utility that contains functions used for querying and transforming syphilis FHIR data. Request code was originally written by Mark Knutson.\n",
    "\n",
    "**Schedule:** None"
   ]
  },
  {
   "cell_type": "markdown",
   "metadata": {
    "application/vnd.databricks.v1+cell": {
     "cellMetadata": {
      "byteLimit": 2048000,
      "rowLimit": 10000
     },
     "inputWidgets": {},
     "nuid": "8280bc68-aebc-486d-bb5e-7787e328eb8e",
     "showTitle": false,
     "tableResultSettingsMap": {},
     "title": ""
    }
   },
   "source": [
    "**Changelog:**\n",
    "- 10/02/2023: Created notebook with 'get_token', 'query_fhir', and 'parse_fhir' functions.\n",
    "- 10/27/2023: Edited 'parse_fhir' based on formatting changes in the UAT data.\n",
    "- 10/30/2023: Added code to 'parse_specimen' to capture 'Site2' values.\n",
    "- 11/14/2023: Added code to 'parse_patient' to capture 'Case Modification Date' values. \n",
    "- 11/16/2023: Added improved error handling to 'query_fhir'\n",
    "- 07/30/2024: Added send_fhir_message function\n",
    "- 11/14/2024: Edited 'parse_fhir' to handle the five new Phase 1 fields."
   ]
  },
  {
   "cell_type": "code",
   "execution_count": 0,
   "metadata": {
    "application/vnd.databricks.v1+cell": {
     "cellMetadata": {
      "byteLimit": 2048000,
      "rowLimit": 10000
     },
     "inputWidgets": {},
     "nuid": "a0c71428-c16e-4c75-9335-7cb90dcc49c0",
     "showTitle": true,
     "tableResultSettingsMap": {},
     "title": "Import"
    }
   },
   "outputs": [],
   "source": [
    "import json #uat_token, query_fhir, parse_fhir, send_fhir_message\n",
    "import requests #uat_token, query_fhir, send_fhir_message\n",
    "from requests.auth import HTTPDigestAuth #uat_token\n",
    "import re #parse_fhir\n",
    "from functools import reduce #parse_fhir\n",
    "import pandas as pd #parse_fhir\n",
    "import time #query fhir, send_fhir_message"
   ]
  },
  {
   "cell_type": "code",
   "execution_count": 0,
   "metadata": {
    "application/vnd.databricks.v1+cell": {
     "cellMetadata": {
      "byteLimit": 2048000,
      "rowLimit": 10000
     },
     "inputWidgets": {},
     "nuid": "008cd958-6e74-4730-8d37-155ed126b869",
     "showTitle": true,
     "tableResultSettingsMap": {},
     "title": "get_token"
    }
   },
   "outputs": [],
   "source": [
    "#This function connects to the Keycloak API and retrieves an access token used to authenticate our query\n",
    "def get_token(keycloak_url, realm, client_id, client_secret):\n",
    "    endpoint = f\"{keycloak_url}/realms/{realm}/protocol/openid-connect/token\"\n",
    "    data = {\"grant_type\": \"client_credentials\", \"client_secret\": client_secret, \"client_id\": client_id}\n",
    "    headers = {\"Content-Type\": \"application/x-www-form-urlencoded\"}\n",
    "\n",
    "    print(\"Retrieving token from: \" + endpoint)\n",
    "    resp = requests.post(endpoint, data = data, headers = headers)\n",
    "    respContent = resp.content\n",
    "    respStr = resp.content.decode('utf-8')\n",
    "\n",
    "    if '503 Service Temporarily Unavailable' in respStr:\n",
    "        raise ValueError('MDH server error: 503 Service Temporarily Unavailable')\n",
    "\n",
    "    respJson = json.loads(respStr)\n",
    "    \n",
    "    token_type = respJson['token_type']\n",
    "    scope = respJson['scope']\n",
    "    token = respJson['access_token']\n",
    "    print(f\"Token retrieved from: {endpoint}\")\n",
    "    print(str(len(token)) + \" token bytes\")\n",
    "    return token"
   ]
  },
  {
   "cell_type": "code",
   "execution_count": 0,
   "metadata": {
    "application/vnd.databricks.v1+cell": {
     "cellMetadata": {},
     "inputWidgets": {},
     "nuid": "8964f5e4-126a-45b5-8b0f-beaeb0b5f379",
     "showTitle": true,
     "tableResultSettingsMap": {},
     "title": "query_fhir"
    }
   },
   "outputs": [],
   "source": [
    "#Retrieve data in FHIR JSON format\n",
    "def query_fhir(app_host, suffix):\n",
    "    endpoint = f\"{app_host}{suffix}\"\n",
    "\n",
    "    #Requires an access token retrieved using get_token\n",
    "    headers = {\"Content-Type\": \"application/json\",\"Authorization\": f\"Bearer {access_token}\"}\n",
    "\n",
    "    attempts = 0\n",
    "    success = 0\n",
    "\n",
    "    #Make up to 3 attempts to query the API endpoint\n",
    "    while attempts <= 2 and success != 1:\n",
    "        print(\"Querying: \" + endpoint)\n",
    "        resp = requests.get(endpoint, headers = headers)\n",
    "        respStr = resp.content.decode('utf-8')\n",
    "\n",
    "        #If an error message is received, print it\n",
    "        if 'message\":' in respStr:\n",
    "            print(respStr)\n",
    "\n",
    "            #If the server hasn't spun up yet, wait and retry (see 11/15 email from Dan saved in project folder)\n",
    "            if '\"message\": \"Endpoint request timed out\"' in respStr:\n",
    "                attempts += 1\n",
    "\n",
    "                if attempts == 3:\n",
    "                    raise ValueError('Endpoint request timed out (attempt 3 of 3).')\n",
    "\n",
    "                else:\n",
    "                    print(f\"Waiting for 5 seconds, then retrying... (attempt {attempts} of 3)\")\n",
    "                    time.sleep(5)\n",
    "            else:\n",
    "                raise ValueError('Query failed. Check error message')\n",
    "    \n",
    "        else: \n",
    "            print(\"Query successful.\")\n",
    "            success += 1\n",
    "\n",
    "    #If there is no new data (based on modification date) this will exit the function & notebook when in a workflow\n",
    "    if len(respStr) == 53:\n",
    "        dbutils.notebook.exit(\"No new data available\")\n",
    "    #Otherwise return the data is JSON format\n",
    "    else:\n",
    "        print(str(len(respStr)) + \" bytes long\")\n",
    "        query_data = json.loads(respStr)\n",
    "        e = query_data['entry']\n",
    "        print(f\"Downloaded data for: {len(e)} resource groups\")\n",
    "        ids = map(lambda x: re.sub(\"^.*\\-\", \"\", e[x]['resource']['id']), range(len(e)))\n",
    "        print(f\"Downloaded data for: {len(set(list(ids)))} patients\")\n",
    "        return(query_data)"
   ]
  },
  {
   "cell_type": "markdown",
   "metadata": {
    "application/vnd.databricks.v1+cell": {
     "cellMetadata": {},
     "inputWidgets": {},
     "nuid": "69621500-f717-491c-b398-17a70814e2fd",
     "showTitle": true,
     "tableResultSettingsMap": {},
     "title": "parse_fhir info"
    }
   },
   "source": [
    "**Function structure:**\n",
    "- This function is designed to read through bundles of data in the FHIR format and return the data as a Python dataframe.\n",
    "- It should be used on the output returned by the MDH FHIR server. If there are no new records (this shouldn't be the case since we query all records) the function will stop and so should the script.\n",
    "- FHIR data is stored in resource groups. For example, the patient resource group contains patient demographic information and so on. Multiple FHIR resource groups are combined to provide all data necessary for a use case.\n",
    "- The function needs to read data from seven different resource groups: patient, encounter, specimen, careplan, condition, questionnaire response, and location. There is a separate function below to read each data from each of these resource groups. Then, each function is used as part of the main function that will read and combine the data from each resource group. \n",
    "- These functions find the correct value using a specified path. If a value is not found at the specified path, the function will return correct missing value for most variables."
   ]
  },
  {
   "cell_type": "code",
   "execution_count": 0,
   "metadata": {
    "application/vnd.databricks.v1+cell": {
     "cellMetadata": {},
     "inputWidgets": {},
     "nuid": "02717393-12ac-48f4-ad32-707552924df3",
     "showTitle": true,
     "tableResultSettingsMap": {},
     "title": "Parse patient data"
    }
   },
   "outputs": [],
   "source": [
    "def parse_patient(ent):\n",
    "    id = re.sub(\"^.*\\-\", \"\", ent['resource']['id'])\n",
    "    first_name = ent['resource']['name'][0]['given'][0]\n",
    "    last_name = ent['resource']['name'][1]['family']\n",
    "    gender = ent['resource']['gender']\n",
    "\n",
    "    try:\n",
    "        birth_date = ent['resource']['birthDate']\n",
    "    except:\n",
    "        birth_date = \"\"\n",
    "\n",
    "\n",
    "    #There are multiple variables nested under \"extension\" - race (up to 3), ethnicity, gender identity/detail \n",
    "    race = \"\"\n",
    "    ethnicity = \"\"\n",
    "    gender_detail = \"\"\n",
    "    \n",
    "    try:\n",
    "        ext = len(ent['resource']['extension'])\n",
    "    except:\n",
    "        ext = 0\n",
    "\n",
    "    for demo in range(0, ext):\n",
    "                \n",
    "        if \"us-core-ethnicity\" in ent['resource']['extension'][demo]['url']:\n",
    "            ethnicity = ent['resource']['extension'][demo]['extension'][0]['valueCoding']['display']\n",
    "\n",
    "        if \"us-core-genderIdentity\" in ent['resource']['extension'][demo]['url']:\n",
    "            gender_detail = ent['resource']['extension'][demo]['extension'][0]['valueCoding']['code']\n",
    "\n",
    "        if \"us-core-race\" in ent['resource']['extension'][demo]['url']:\n",
    "            if race == \"\":\n",
    "                race = ent['resource']['extension'][demo]['extension'][0]['valueCoding']['display']\n",
    "            else: \n",
    "                temp = ent['resource']['extension'][demo]['extension'][0]['valueCoding']['display']\n",
    "                race = f\"{race};;{temp}\"\n",
    "\n",
    "    try:\n",
    "        street = ent['resource']['address'][0]['line']\n",
    "        street_1 = ent['resource']['address'][0]['line'][0]\n",
    "    except:\n",
    "        street = \"\"\n",
    "        street_1 = \"\"\n",
    "\n",
    "    if len(street) > 1:\n",
    "        street_2 = street1 = ent['resource']['address'][0]['line'][1]\n",
    "    else: \n",
    "        street_2 = \"\"\n",
    "\n",
    "    try:\n",
    "       county_name = ent['resource']['address'][0]['district']\n",
    "    except:\n",
    "       county_name = \"\" \n",
    "\n",
    "    try:\n",
    "        city = ent['resource']['address'][0]['city']\n",
    "    except:\n",
    "        city = \"\"\n",
    "\n",
    "    try:\n",
    "        zip = ent['resource']['address'][0]['postalCode']\n",
    "    except:\n",
    "        zip = \"\"\n",
    "\n",
    "    case_mod =  ent['resource']['meta']['tag'][0]['code']\n",
    "\n",
    "\n",
    "    patient_data = {\"id\": id, \"first_name\": first_name, \"last_name\": last_name, \"race\": race, \"gender\": gender, \"ethnicity\": ethnicity, \n",
    "                    \"gender_detail\": gender_detail, \"birth_date\": birth_date, \"street_1\": street_1, \"street_2\": street_2, \"city\": city,\n",
    "                    \"zip\": zip, \"county\": county_name, \"case_modification_date\": case_mod}\n",
    "    \n",
    "    return(patient_data)"
   ]
  },
  {
   "cell_type": "code",
   "execution_count": 0,
   "metadata": {
    "application/vnd.databricks.v1+cell": {
     "cellMetadata": {},
     "inputWidgets": {},
     "nuid": "6493b6a7-e12c-497c-bfdd-40f0c11d8012",
     "showTitle": true,
     "tableResultSettingsMap": {},
     "title": "Parse encounter data"
    }
   },
   "outputs": [],
   "source": [
    "def parse_encounter(ent):\n",
    "    id = re.sub(\"^.*\\-\", \"\", ent['fullUrl']) #id is the same across all data, so use this instead for now. \n",
    "\n",
    "    try: #this may not be necessary\n",
    "        ext = len(ent['resource']['extension'][0]['extension'])\n",
    "    except:\n",
    "        ext = 0\n",
    "    \n",
    "    age = \"\"\n",
    "    age_units = \"\"\n",
    "\n",
    "    for lvl in range(0, ext):\n",
    "\n",
    "        if ent['resource']['extension'][0]['extension'][lvl]['valueCoding']['code'] == \"AGE\":\n",
    "            try :\n",
    "                age = ent['resource']['extension'][0]['extension'][lvl]['valueCoding']['display']\n",
    "            except:\n",
    "                age = \"\"\n",
    "        \n",
    "        if ent['resource']['extension'][0]['extension'][lvl]['valueCoding']['code'] == \"AGE_UNITS\":\n",
    "            try:\n",
    "               age_units = ent['resource']['extension'][0]['extension'][lvl]['valueCoding']['display']\n",
    "            except:\n",
    "               age_units = \"\" \n",
    "    \n",
    "    encounter_data = {\"id\": id, \"age\": age, \"age_units\": age_units}\n",
    "    return(encounter_data)"
   ]
  },
  {
   "cell_type": "code",
   "execution_count": 0,
   "metadata": {
    "application/vnd.databricks.v1+cell": {
     "cellMetadata": {},
     "inputWidgets": {},
     "nuid": "25eef1a7-acc1-42f5-8298-55d8bf0223e7",
     "showTitle": true,
     "tableResultSettingsMap": {},
     "title": "Parse specimen data"
    }
   },
   "outputs": [],
   "source": [
    "def parse_specimen(ent):\n",
    "    id = re.sub(\"^.*\\-\", \"\", ent['resource']['id'])\n",
    "\n",
    "    try:\n",
    "        specimen_date = ent['resource']['collection']['collectedDateTime']\n",
    "    except:\n",
    "        specimen_date = \"\"\n",
    "\n",
    "    #There may be multiple sites. Collect data for each one present.\n",
    "    try:\n",
    "        sites = len(ent['resource']['collection']['bodySite']['coding'])\n",
    "    except:\n",
    "        sites = 0\n",
    "    \n",
    "    site = \"\"\n",
    "    for s in range(0, sites):\n",
    "        if site == \"\":\n",
    "            site= ent['resource']['collection']['bodySite']['coding'][s]['code']\n",
    "        else:\n",
    "            temp = ent['resource']['collection']['bodySite']['coding'][s]['code']\n",
    "            site = f\"{site};;{temp}\"\n",
    "\n",
    "    specimen_data = {\"id\": id, \"site\": site, \"specimen_date\": specimen_date}\n",
    "    return(specimen_data)"
   ]
  },
  {
   "cell_type": "code",
   "execution_count": 0,
   "metadata": {
    "application/vnd.databricks.v1+cell": {
     "cellMetadata": {},
     "inputWidgets": {},
     "nuid": "0e44fd94-f7ce-426e-a399-a83efa835efa",
     "showTitle": true,
     "tableResultSettingsMap": {},
     "title": "Parse careplan data"
    }
   },
   "outputs": [],
   "source": [
    "def parse_careplan(ent):\n",
    "    id = re.sub(\"^.*\\-\", \"\", ent['resource']['id'])\n",
    "\n",
    "    #There is only one start date included - so would be the same for multiple treatments\n",
    "    try:\n",
    "        regimen_start_date = ent['resource']['activity'][0]['detail']['scheduledString']\n",
    "    except:\n",
    "        regimen_start_date = \"\" \n",
    "\n",
    "    treatment_regimen = \"\"\n",
    "\n",
    "    #There may be multiple treatment regimens. Collect data for all\n",
    "    try:\n",
    "        act = len(ent['resource']['activity']) #the number of included regimens (only two)\n",
    "    except:\n",
    "        act = 0\n",
    "\n",
    "    for meds in range(0, act): \n",
    "        if treatment_regimen == \"\":\n",
    "            try: #I may not ultimately need try/except here\n",
    "                treatment_regimen = ent['resource']['activity'][meds]['detail']['description']\n",
    "            except:\n",
    "                treatment_regimen == \"\"\n",
    "\n",
    "        else:\n",
    "            try:\n",
    "                temp = ent['resource']['activity'][meds]['detail']['description']\n",
    "                treatment_regimen = f\"{treatment_regimen};;{temp}\"\n",
    "            except:\n",
    "                treatment_regimen = treatment_regimen\n",
    "\n",
    "    careplan_data = {\"id\": id, \"regimen_start_date\": regimen_start_date, \"treatment_regimen\": treatment_regimen}\n",
    "    return(careplan_data)"
   ]
  },
  {
   "cell_type": "code",
   "execution_count": 0,
   "metadata": {
    "application/vnd.databricks.v1+cell": {
     "cellMetadata": {
      "byteLimit": 2048000,
      "rowLimit": 10000
     },
     "inputWidgets": {},
     "nuid": "d3824eca-cfa8-428b-be94-e8c328f9ea02",
     "showTitle": true,
     "tableResultSettingsMap": {},
     "title": "Parse condition data"
    }
   },
   "outputs": [],
   "source": [
    "def parse_condition(ent):\n",
    "    id = re.sub(\"^.*\\-\", \"\", ent['resource']['id'])\n",
    "    disease = ent['resource']['code']['coding'][0]['code']\n",
    "\n",
    "    try: \n",
    "        syphcode = ent['resource']['stage'][0]['summary']['coding'][0]['code'] #i don't think there could be more than 1?\n",
    "    except: \n",
    "        syphcode = \"9\"\n",
    "            \n",
    "    condition_data = {\"id\": id, \"disease\": disease, \"syphcode\": syphcode} \n",
    "    return(condition_data)"
   ]
  },
  {
   "cell_type": "code",
   "execution_count": 0,
   "metadata": {
    "application/vnd.databricks.v1+cell": {
     "cellMetadata": {},
     "inputWidgets": {},
     "nuid": "1ff1f4dc-95af-468a-98b7-07e781d59a12",
     "showTitle": true,
     "tableResultSettingsMap": {},
     "title": "Parse QuestionnaireResponse data"
    }
   },
   "outputs": [],
   "source": [
    "def parse_qr(ent):\n",
    "    id = re.sub(\"^.*\\-\", \"\", ent['resource']['id'])\n",
    "    qr = {\"id\": id}\n",
    "\n",
    "    for x in range(len(ent['resource']['item'])):\n",
    "        name = ent['resource']['item'][x]['text'].replace(\" \", \"\").replace(\"-\", \"\")\n",
    "\n",
    "        #Edits 11/24 - five new fields added to QR. They are stored differently, so will change this code to work with both\n",
    "        try:\n",
    "            value = ent['resource']['item'][x]['answer'][0]['valueCoding']['code']\n",
    "        except KeyError:\n",
    "            try:\n",
    "                value = ent['resource']['item'][x]['answer'][0]['valueBoolean'] \n",
    "            except KeyError:\n",
    "                value = ent['resource']['item'][x]['answer'][0]['valueDate']\n",
    "        \n",
    "        temp = {name: value}\n",
    "        qr = dict(qr, **temp)\n",
    "\n",
    "    return(qr)"
   ]
  },
  {
   "cell_type": "code",
   "execution_count": 0,
   "metadata": {
    "application/vnd.databricks.v1+cell": {
     "cellMetadata": {},
     "inputWidgets": {},
     "nuid": "1ae30c6c-fa6c-4139-bd06-d834c48d318c",
     "showTitle": true,
     "tableResultSettingsMap": {},
     "title": "Parse location data"
    }
   },
   "outputs": [],
   "source": [
    "def parse_location(ent):\n",
    "    id = re.sub(\"^.*\\-\", \"\", ent['resource']['id'])\n",
    "\n",
    "    try:\n",
    "        facility_doing_the_reporting = ent['resource']['name']\n",
    "    except:\n",
    "        facility_doing_the_reporting = \"\"\n",
    "    \n",
    "    location_data = {\"id\": id, \"facility_doing_the_reporting\": facility_doing_the_reporting}\n",
    "    return(location_data)"
   ]
  },
  {
   "cell_type": "code",
   "execution_count": 0,
   "metadata": {
    "application/vnd.databricks.v1+cell": {
     "cellMetadata": {},
     "inputWidgets": {},
     "nuid": "c30b8d4c-cdad-4dcc-9fbb-bd3d9f9fa21d",
     "showTitle": true,
     "tableResultSettingsMap": {},
     "title": "Final function - parse all resource groups"
    }
   },
   "outputs": [],
   "source": [
    "def parse_sti_fhir(data):\n",
    "\n",
    "    e = data['entry']\n",
    "    print(f\"Resource groups in data: {len(e)}\")\n",
    "    ids = map(lambda x: re.sub(\"^.*\\-\", \"\", e[x]['resource']['id']), range(len(e)))\n",
    "    print(f\"Patients in data: {len(set(list(ids)))}\")\n",
    "    print(f\"Includes all records updated on or after: {mod_date}\")\n",
    "    \n",
    "    #Use lists to hold data from each patient/entry\n",
    "    patient_data = []\n",
    "    specimen_data = []\n",
    "    encounter_data = []\n",
    "    careplan_data = []\n",
    "    condition_data = []\n",
    "    question_data = []\n",
    "    location_data = []\n",
    "\n",
    "\n",
    "    #Read data for each patient/entry\n",
    "    for ent in data['entry']:\n",
    "        resource_type = ent['resource']['resourceType']\n",
    "\n",
    "        if resource_type == 'Patient':\n",
    "            patient_temp = parse_patient(ent)\n",
    "            patient_data.append(patient_temp)\n",
    "\n",
    "        elif resource_type == \"Specimen\":\n",
    "            specimen_temp = parse_specimen(ent)\n",
    "            specimen_data.append(specimen_temp)\n",
    "\n",
    "        elif resource_type == \"Encounter\":\n",
    "            encounter_temp = parse_encounter(ent)\n",
    "            encounter_data.append(encounter_temp)\n",
    "\n",
    "        elif resource_type == \"CarePlan\": \n",
    "            careplan_temp = parse_careplan(ent)\n",
    "            careplan_data.append(careplan_temp)\n",
    "        \n",
    "        elif resource_type == \"Condition\":\n",
    "            condition_temp = parse_condition(ent)\n",
    "            condition_data.append(condition_temp)\n",
    "\n",
    "        elif resource_type == \"QuestionnaireResponse\":\n",
    "            question_temp = parse_qr(ent)\n",
    "            question_data.append(question_temp)\n",
    "\n",
    "        elif resource_type == \"Location\":\n",
    "            location_temp = parse_location(ent)\n",
    "            location_data.append(location_temp)\n",
    "\n",
    "\n",
    "    #Create dataframe row for each patient/entry\n",
    "    fhir_resources = [pd.DataFrame(patient_data), pd.DataFrame(specimen_data), pd.DataFrame(encounter_data), pd.DataFrame(careplan_data), \n",
    "                      pd.DataFrame(condition_data), pd.DataFrame(question_data), pd.DataFrame(location_data)]\n",
    "    \n",
    "    fhir_final = reduce(lambda  left,right: pd.merge(left, right, on = ['id'], how = 'left'), fhir_resources) \n",
    "    return(fhir_final)"
   ]
  }
 ],
 "metadata": {
  "application/vnd.databricks.v1+notebook": {
   "dashboards": [],
   "environmentMetadata": null,
   "language": "python",
   "notebookMetadata": {
    "pythonIndentUnit": 4
   },
   "notebookName": "fhir_functions",
   "widgets": {}
  },
  "language_info": {
   "name": "python"
  }
 },
 "nbformat": 4,
 "nbformat_minor": 0
}
