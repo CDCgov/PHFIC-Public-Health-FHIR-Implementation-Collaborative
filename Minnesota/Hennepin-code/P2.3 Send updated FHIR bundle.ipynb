{
 "cells": [
  {
   "cell_type": "markdown",
   "metadata": {},
   "source": [
    "Phase 2 - Notebook 3 (copied from Databricks, not all code may work correctly in other IDEs). \n",
    "\n",
    "This notebook converts the updated case data from the previous script into FHIR format, and then sends each patient bundle separately through the API to MDH. "
   ]
  },
  {
   "cell_type": "code",
   "execution_count": null,
   "metadata": {},
   "outputs": [],
   "source": [
    "%pip install fhir.resources"
   ]
  },
  {
   "cell_type": "code",
   "execution_count": null,
   "metadata": {},
   "outputs": [],
   "source": [
    "%run \"/Shared/InfectiousDiseases/Syphilis/FHIR/Production/fhir_functions_p2\""
   ]
  },
  {
   "cell_type": "code",
   "execution_count": null,
   "metadata": {},
   "outputs": [],
   "source": [
    "#https://pypi.org/project/fhir.resources/\n",
    "#Default FHIR version is 5. Use version 4(R4B) by importing a subpackage.\n",
    "from fhir.resources.R4B.patient import Patient\n",
    "from fhir.resources.R4B.careplan import CarePlan\n",
    "from fhir.resources.R4B.observation import Observation\n",
    "from fhir.resources.R4B.questionnaireresponse import QuestionnaireResponse\n",
    "from fhir.resources.R4B.bundle import Bundle\n",
    "from fhir.resources.R4B.bundle import BundleEntry\n",
    "\n",
    "import pandas as pd\n",
    "import json\n",
    "import os"
   ]
  },
  {
   "cell_type": "code",
   "execution_count": null,
   "metadata": {},
   "outputs": [],
   "source": [
    "bt = \"/dbfs/mnt/phmdw/Refined/PublicHealth/InfectiousDiseases/SyphilisProvisional/FHIR Base Tables/\""
   ]
  },
  {
   "cell_type": "markdown",
   "metadata": {},
   "source": [
    "Read in updated cases."
   ]
  },
  {
   "cell_type": "code",
   "execution_count": null,
   "metadata": {},
   "outputs": [],
   "source": [
    "#For now just read these files in. Will eventually add some logic to grab the correct one.\n",
    "updated_cases = pd.read_parquet(bt + \"fhir_main_2024-07-12.parquet\")\n",
    "updated_cases = updated_cases[updated_cases['update_any'] == 1]\n",
    "\n",
    "treatment_history = pd.read_parquet(bt + \"fhir_treat_2024-07-12.parquet\").dropna()"
   ]
  },
  {
   "cell_type": "markdown",
   "metadata": {},
   "source": [
    "Read in relevant reference tables."
   ]
  },
  {
   "cell_type": "code",
   "execution_count": null,
   "metadata": {},
   "outputs": [],
   "source": [
    "reference = '/dbfs/mnt/phmdw/Trusted/PublicHealth/Reference/FHIR/'\n",
    "\n",
    "language = pd.read_csv(reference + 'fhir_language_codes.csv')\n",
    "orientation = pd.read_csv(reference + 'fhir_sexual_orientation.csv')"
   ]
  },
  {
   "cell_type": "markdown",
   "metadata": {},
   "source": [
    "For each patient, create bundle and send."
   ]
  },
  {
   "cell_type": "code",
   "execution_count": null,
   "metadata": {},
   "outputs": [],
   "source": [
    "patients = updated_cases.case_id.unique()\n",
    "print(str(len(patients)) + ' patient bundles to send.')\n",
    "\n",
    "for patid in patients:\n",
    "  \n",
    "    #Create bundle structure\n",
    "    patient_bundle = Bundle.construct()\n",
    "    patient_bundle.type = 'searchset'\n",
    "    bundle_list = []\n",
    "\n",
    "    #Filter patient data\n",
    "    temp = updated_cases[updated_cases['case_id'] == patid]\n",
    "    temp_trt = treatment_history[treatment_history['case_id'] == patid]\n",
    "    temp_trt = temp_trt.reset_index()\n",
    "\n",
    "    #Create patient resource\n",
    "    pat = create_patient_resource(temp)\n",
    "    \n",
    "    #Add patient resource to bundle\n",
    "    pat_rg = Patient(**pat)\n",
    "    pat_entry = BundleEntry.construct()\n",
    "    pat_entry.fullUrl = 'urn:us-mn-state-health-medss-patient:' + temp.case_id.item()\n",
    "    pat_entry.resource = pat_rg\n",
    "    bundle_list.append(pat_entry)\n",
    "\n",
    "    #Create observation resource\n",
    "    obs = create_observation_resource(temp)\n",
    "    \n",
    "    #Add observation resource to bundle\n",
    "    obs_rg = Observation(**obs)\n",
    "    obs_entry = BundleEntry.construct()\n",
    "    obs_entry.fullUrl = 'urn:us-mn-state-health-medss-observation:' + temp.case_id.item()\n",
    "    obs_entry.resource = obs_rg\n",
    "    bundle_list.append(obs_entry)\n",
    "\n",
    "    #Create CarePlan resource(s) (if data is available, may need to change)\n",
    "    if len(temp_trt) != 0:\n",
    "        for x in range(0, len(temp_trt)):\n",
    "            single_trt = temp_trt.iloc[x]\n",
    "\n",
    "            cp = create_careplan_resource(single_trt)\n",
    "    \n",
    "            #Add CarePlan resource to bundle\n",
    "            cp_rg = CarePlan(**cp)\n",
    "            cp_entry = BundleEntry.construct()\n",
    "            cp_entry.fullUrl = 'urn:us-mn-state-health-medss-careplan:' + str(x+1) + single_trt.case_id #add a number to this. must be unqiue if there are multiple resources shared\n",
    "            cp_entry.resource = cp_rg\n",
    "            bundle_list.append(cp_entry)\n",
    "\n",
    "    #Create QuestionnaireResponse resource\n",
    "    qr = create_questionnaire_resource(temp)\n",
    "\n",
    "    #Add QuestionnaireResponse resource to bundle\n",
    "    qr_rg = QuestionnaireResponse(**qr)\n",
    "    qr_entry = BundleEntry.construct()\n",
    "    qr_entry.fullUrl = 'urn:us-mn-state-health-medss-questionnaireresponse:' + temp.case_id.item()\n",
    "    qr_entry.resource = qr_rg\n",
    "    bundle_list.append(qr_entry)\n",
    "\n",
    "    #Create bundle from list of entries\n",
    "    patient_bundle.entry = bundle_list\n",
    "    fhir_message = patient_bundle.json()\n",
    "\n",
    "    #Print the final bundle as an example\n",
    "    place = [i for i, x in enumerate(patients) if x == patid][0]\n",
    "\n",
    "    if place == len(patients) - 1:\n",
    "        display(json.loads(fhir_message))\n",
    "\n",
    "    #Code to send below\n",
    "    send_fhir_message('https://dex.web.health.state.mn.us', fhir_message)"
   ]
  }
 ],
 "metadata": {
  "language_info": {
   "name": "python"
  }
 },
 "nbformat": 4,
 "nbformat_minor": 2
}
